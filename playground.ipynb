{
 "cells": [
  {
   "cell_type": "code",
   "execution_count": 9,
   "metadata": {},
   "outputs": [],
   "source": [
    "from enum import Enum\n",
    "\n",
    "class JobStatus(Enum):\n",
    "    # Non-final states\n",
    "    PENDING = \"PENDING\"\n",
    "    RUNNING = \"RUNNING\"\n",
    "    SUSPENDED = \"SUSPENDED\"\n",
    "    COMPLETING = \"COMPLETING\"\n",
    "    CONFIGURING = \"CONFIGURING\"\n",
    "    RESIZING = \"RESIZING\"\n",
    "    REQUEUED = \"REQUEUED\"\n",
    "    \n",
    "    # Final states\n",
    "    COMPLETED = \"COMPLETED\"\n",
    "    FAILED = \"FAILED\"\n",
    "    TIMEOUT = \"TIMEOUT\"\n",
    "    PREEMPTED = \"PREEMPTED\"\n",
    "    STOPPED = \"STOPPED\"\n",
    "    CANCELLED = \"CANCELLED\"\n",
    "    BOOT_FAIL = \"BOOT_FAIL\"\n",
    "    NODE_FAIL = \"NODE_FAIL\"\n",
    "    DEADLINE = \"DEADLINE\"\n",
    "    OUT_OF_MEMORY = \"OUT_OF_MEMORY\"\n",
    "    SPECIAL_EXIT = \"SPECIAL_EXIT\"\n",
    "    REVOKED = \"REVOKED\"\n",
    "    \n",
    "    @classmethod\n",
    "    def is_final(cls, status):\n",
    "        \"\"\"Returns whether this is a final (terminal) state.\"\"\"\n",
    "        res = JobStatus(status) not in {cls.PENDING, cls.RUNNING, cls.SUSPENDED, \n",
    "                           cls.COMPLETING, cls.CONFIGURING, cls.RESIZING,\n",
    "                           cls.REQUEUED}\n",
    "        print(f\"JobStatus.is_final({status}) = {res}\")\n",
    "        return res\n",
    "\n"
   ]
  },
  {
   "cell_type": "code",
   "execution_count": 11,
   "metadata": {},
   "outputs": [
    {
     "name": "stdout",
     "output_type": "stream",
     "text": [
      "JobStatus.is_final(COMPLETED) = True\n"
     ]
    },
    {
     "data": {
      "text/plain": [
       "True"
      ]
     },
     "execution_count": 11,
     "metadata": {},
     "output_type": "execute_result"
    }
   ],
   "source": [
    "JobStatus.is_final(\"COMPLETED\") "
   ]
  },
  {
   "cell_type": "code",
   "execution_count": 13,
   "metadata": {},
   "outputs": [
    {
     "name": "stdout",
     "output_type": "stream",
     "text": [
      "172800\n"
     ]
    }
   ],
   "source": [
    "def remaining_time(info):\n",
    "    \"\"\"\n",
    "    Calculate the remaining time in seconds based on the run time and time limit.\n",
    "    Args:\n",
    "        info (dict): A dictionary containing job information with 'RunTime' and 'TimeLimit' keys.\n",
    "    Returns:\n",
    "        int: Remaining time in seconds.\n",
    "    \"\"\"\n",
    "    run_time_str = info.get(\"RunTime\", \"00:00:00\")\n",
    "    time_limit_str = info.get(\"TimeLimit\", \"00:00:00\")\n",
    "    def time_to_seconds(time_str):\n",
    "        days = 0\n",
    "        if \"-\" in time_str:\n",
    "            days, time_str = time_str.split(\"-\")\n",
    "            days = int(days)\n",
    "        hours, minutes, seconds = map(int, time_str.split(\":\"))\n",
    "        return days * 24 * 3600 + hours * 3600 + minutes * 60 + seconds\n",
    "    run_time_seconds = time_to_seconds(run_time_str)\n",
    "    time_limit_seconds = time_to_seconds(time_limit_str)\n",
    "    remaining_seconds = time_limit_seconds - run_time_seconds\n",
    "    print(f\"Remaining time: {remaining_seconds} seconds\")\n",
    "    return max(0, remaining_seconds)\n",
    "def time_to_seconds(time_str):\n",
    "    days = 0\n",
    "    if \"-\" in time_str:\n",
    "        days, time_str = time_str.split(\"-\")\n",
    "        days = int(days)\n",
    "    hours, minutes, seconds = map(int, time_str.split(\":\"))\n",
    "    return days * 24 * 3600 + hours * 3600 + minutes * 60 + seconds\n",
    "print(time_to_seconds(\"2-00:00:00\"))"
   ]
  },
  {
   "cell_type": "code",
   "execution_count": 15,
   "metadata": {},
   "outputs": [
    {
     "name": "stdout",
     "output_type": "stream",
     "text": [
      "172800\n"
     ]
    }
   ],
   "source": [
    "print(time_to_seconds(\"12:00:00\")*4)"
   ]
  },
  {
   "cell_type": "code",
   "execution_count": 21,
   "metadata": {},
   "outputs": [
    {
     "name": "stdout",
     "output_type": "stream",
     "text": [
      "2025-04-29 11:52:08 | DEBUG    : Debug logging is enabled\n",
      "2025-04-29 11:52:08 | INFO     : Only INFO and above is shown\n",
      "\u001b[32m2025-04-29 11:52:08.938\u001b[0m | \u001b[34m\u001b[1mDEBUG   \u001b[0m | \u001b[36m__main__\u001b[0m:\u001b[36m<module>\u001b[0m:\u001b[36m20\u001b[0m - \u001b[34m\u001b[1mDebug logging is enabled again\u001b[0m\n",
      "\u001b[32m2025-04-29 11:52:08.938\u001b[0m | \u001b[33m\u001b[1mWARNING \u001b[0m | \u001b[36m__main__\u001b[0m:\u001b[36m<module>\u001b[0m:\u001b[36m22\u001b[0m - \u001b[33m\u001b[1mThis is a warning message\u001b[0m\n"
     ]
    }
   ],
   "source": [
    "import sys\n",
    "from loguru import logger\n",
    "\n",
    "# Remove default handler\n",
    "logger.remove()\n",
    "\n",
    "# Add a handler and store its ID\n",
    "debug_handler = logger.add(sys.stdout, level=\"DEBUG\", format=\"{time:YYYY-MM-DD HH:mm:ss} | {level:<8} : {message}\")\n",
    "logger.debug(\"Debug logging is enabled\")\n",
    "\n",
    "# Remove the debug handler and add an info-level handler\n",
    "logger.remove(debug_handler)\n",
    "info_handler = logger.add(sys.stdout, level=\"INFO\", format=\"{time:YYYY-MM-DD HH:mm:ss} | {level:<8} : {message}\")\n",
    "logger.debug(\"This debug won't show\")\n",
    "logger.info(\"Only INFO and above is shown\")\n",
    "\n",
    "# Switch back to debug logging\n",
    "logger.remove(info_handler)\n",
    "logger.add(sys.stdout, level=\"DEBUG\") #, format=\"{time:YYYY-MM-DD HH:mm:ss} | {level:<8} : {message}\")\n",
    "logger.debug(\"Debug logging is enabled again\")\n",
    "\n",
    "logger.warning(\"This is a warning message\")\n"
   ]
  },
  {
   "cell_type": "code",
   "execution_count": 22,
   "metadata": {},
   "outputs": [
    {
     "name": "stdout",
     "output_type": "stream",
     "text": [
      "2025-04-29 11:53:41 | \u001b[34m\u001b[1mDEBUG   \u001b[0m : Debug logging is enabled\n",
      "2025-04-29 11:53:41 | \u001b[1mINFO    \u001b[0m : Only INFO and above is shown\n",
      "2025-04-29 11:53:41 | \u001b[34m\u001b[1mDEBUG   \u001b[0m : Debug logging is enabled again\n",
      "2025-04-29 11:53:41 | \u001b[33m\u001b[1mWARNING \u001b[0m : This is a warning message\n"
     ]
    }
   ],
   "source": [
    "import sys\n",
    "from loguru import logger\n",
    "\n",
    "# Remove default handler\n",
    "logger.remove()\n",
    "\n",
    "# Define a format with color tags for all levels\n",
    "log_format = \"{time:YYYY-MM-DD HH:mm:ss} | <level>{level:<8}</level> : {message}\"\n",
    "\n",
    "# Add a handler and store its ID\n",
    "debug_handler = logger.add(sys.stdout, level=\"DEBUG\", format=log_format, colorize=True)\n",
    "logger.debug(\"Debug logging is enabled\")\n",
    "\n",
    "# Remove the debug handler and add an info-level handler\n",
    "logger.remove(debug_handler)\n",
    "info_handler = logger.add(sys.stdout, level=\"INFO\", format=log_format, colorize=True)\n",
    "logger.debug(\"This debug won't show\")\n",
    "logger.info(\"Only INFO and above is shown\")\n",
    "\n",
    "# Switch back to debug logging\n",
    "logger.remove(info_handler)\n",
    "logger.add(sys.stdout, level=\"DEBUG\", format=log_format, colorize=True)\n",
    "logger.debug(\"Debug logging is enabled again\")\n",
    "\n",
    "logger.warning(\"This is a warning message\")\n"
   ]
  },
  {
   "cell_type": "code",
   "execution_count": 4,
   "metadata": {},
   "outputs": [
    {
     "data": {
      "text/plain": [
       "False"
      ]
     },
     "execution_count": 4,
     "metadata": {},
     "output_type": "execute_result"
    }
   ],
   "source": [
    "# common.py\n",
    "from enum import Enum, unique\n",
    "\n",
    "@unique\n",
    "class JobStatus(Enum):\n",
    "    PENDING      = \"PENDING\"\n",
    "    RUNNING      = \"RUNNING\"\n",
    "    SUSPENDED    = \"SUSPENDED\"\n",
    "    COMPLETING   = \"COMPLETING\"\n",
    "    CONFIGURING  = \"CONFIGURING\"\n",
    "    RESIZING     = \"RESIZING\"\n",
    "    REQUEUED     = \"REQUEUED\"\n",
    "\n",
    "    # terminal states\n",
    "    COMPLETED    = \"COMPLETED\"\n",
    "    FAILED       = \"FAILED\"\n",
    "    TIMEOUT      = \"TIMEOUT\"\n",
    "    PREEMPTED    = \"PREEMPTED\"\n",
    "    STOPPED      = \"STOPPED\"\n",
    "    CANCELLED    = \"CANCELLED\"\n",
    "    BOOT_FAIL    = \"BOOT_FAIL\"\n",
    "    NODE_FAIL    = \"NODE_FAIL\"\n",
    "    DEADLINE     = \"DEADLINE\"\n",
    "    OUT_OF_MEMORY= \"OUT_OF_MEMORY\"\n",
    "    SPECIAL_EXIT = \"SPECIAL_EXIT\"\n",
    "    REVOKED      = \"REVOKED\"\n",
    "\n",
    "    @classmethod\n",
    "    def is_final(cls, status: str) -> bool:\n",
    "        \"\"\"Returns True if status is a terminal state.\"\"\"\n",
    "        TERMINAL_STATES = {\n",
    "            cls.COMPLETED, cls.FAILED, cls.TIMEOUT, cls.PREEMPTED, cls.STOPPED, cls.CANCELLED,\n",
    "            cls.BOOT_FAIL, cls.NODE_FAIL, cls.DEADLINE, cls.OUT_OF_MEMORY, cls.SPECIAL_EXIT, cls.REVOKED\n",
    "        }\n",
    "        try:\n",
    "            st = cls(status)\n",
    "        except ValueError:\n",
    "            return False\n",
    "        return st in TERMINAL_STATES\n",
    "\n",
    "\n",
    "JobStatus.is_final(\"COMPLETED\")  # True\n",
    "JobStatus.is_final(\"RUNNING\")    # False"
   ]
  },
  {
   "cell_type": "code",
   "execution_count": null,
   "metadata": {},
   "outputs": [],
   "source": [
    "TypeError: argument of type 'JobStatus' is not iterable"
   ]
  }
 ],
 "metadata": {
  "kernelspec": {
   "display_name": ".venv",
   "language": "python",
   "name": "python3"
  },
  "language_info": {
   "codemirror_mode": {
    "name": "ipython",
    "version": 3
   },
   "file_extension": ".py",
   "mimetype": "text/x-python",
   "name": "python",
   "nbconvert_exporter": "python",
   "pygments_lexer": "ipython3",
   "version": "3.10.12"
  }
 },
 "nbformat": 4,
 "nbformat_minor": 2
}
